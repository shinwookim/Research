{
 "cells": [
  {
   "cell_type": "markdown",
   "metadata": {},
   "source": [
    "# Initial Study: Examining Speculative Decoding Outputs"
   ]
  },
  {
   "cell_type": "code",
   "execution_count": 24,
   "metadata": {
    "execution": {
     "iopub.execute_input": "2024-03-27T17:41:26.334967Z",
     "iopub.status.busy": "2024-03-27T17:41:26.334676Z",
     "iopub.status.idle": "2024-03-27T17:41:27.807585Z",
     "shell.execute_reply": "2024-03-27T17:41:27.807016Z"
    }
   },
   "outputs": [],
   "source": [
    "from transformers import AutoModelForCausalLM, AutoTokenizer\n",
    "HF_CACHE_LOCATION = \"/data/shk148/models/opt/cache\"\n",
    "# To pre-cache all the OPT models easily (in parallel),\n",
    "# use `../precache_opt_models.py HF_CACHE_LOCATION`\n",
    "\n",
    "# For processing on GPU, we use PyTorch\n",
    "# TensorFlow is also available, but Transformers' integration with PyTorch is more robust\n",
    "import torch\n",
    "torch_device = \"cuda\" if torch.cuda.is_available() else \"cpu\""
   ]
  },
  {
   "cell_type": "code",
   "execution_count": 25,
   "metadata": {
    "execution": {
     "iopub.execute_input": "2024-03-27T17:41:27.811159Z",
     "iopub.status.busy": "2024-03-27T17:41:27.810778Z",
     "iopub.status.idle": "2024-03-27T17:41:27.859866Z",
     "shell.execute_reply": "2024-03-27T17:41:27.859467Z"
    }
   },
   "outputs": [
    {
     "data": {
      "text/plain": [
       "20971520"
      ]
     },
     "execution_count": 25,
     "metadata": {},
     "output_type": "execute_result"
    }
   ],
   "source": [
    "# Things allocated on GPU is not cleared automaticaly.\n",
    "# This can be problamatic when running the notebook multiple times,\n",
    "# Or running it out-of-order.\n",
    "# `clear_torch()` tries to free some space on the GPU.\n",
    "import gc\n",
    "def clear_torch():\n",
    "    if \"assistant_model\" in globals() :\n",
    "        global assistant_model\n",
    "        del assistant_model\n",
    "    if \"target_model\" in globals() :\n",
    "        global target_model\n",
    "        del target_model\n",
    "    if \"tokenizer\" in globals():\n",
    "        global tokenizer\n",
    "        del tokenizer\n",
    "    if \"inputs\" in globals():\n",
    "        global inputs\n",
    "        del inputs\n",
    "    if \"outputs\" in globals():\n",
    "        global outputs\n",
    "        del outputs\n",
    "    gc.collect()\n",
    "    torch.cuda.empty_cache()\n",
    "clear_torch()\n",
    "torch.cuda.memory_reserved()"
   ]
  },
  {
   "cell_type": "code",
   "execution_count": 26,
   "metadata": {
    "execution": {
     "iopub.execute_input": "2024-03-27T17:41:27.923544Z",
     "iopub.status.busy": "2024-03-27T17:41:27.923243Z",
     "iopub.status.idle": "2024-03-27T17:41:33.082210Z",
     "shell.execute_reply": "2024-03-27T17:41:33.081257Z"
    }
   },
   "outputs": [
    {
     "data": {
      "application/vnd.jupyter.widget-view+json": {
       "model_id": "2aaa68ac47114b74b5f8bb29a40b25dc",
       "version_major": 2,
       "version_minor": 0
      },
      "text/plain": [
       "Loading checkpoint shards:   0%|          | 0/2 [00:00<?, ?it/s]"
      ]
     },
     "metadata": {},
     "output_type": "display_data"
    }
   ],
   "source": [
    "clear_torch()\n",
    "# This is the Target LLM\n",
    "checkpoint = \"facebook/opt-6.7b\"\n",
    "# Load the model into the GPU\n",
    "target_model = AutoModelForCausalLM.from_pretrained(checkpoint, cache_dir=HF_CACHE_LOCATION).cuda()\n",
    "tokenizer = AutoTokenizer.from_pretrained(checkpoint, cache_dir=HF_CACHE_LOCATION)"
   ]
  },
  {
   "cell_type": "code",
   "execution_count": 27,
   "metadata": {
    "execution": {
     "iopub.execute_input": "2024-03-27T17:41:33.085442Z",
     "iopub.status.busy": "2024-03-27T17:41:33.085038Z",
     "iopub.status.idle": "2024-03-27T17:41:33.089429Z",
     "shell.execute_reply": "2024-03-27T17:41:33.088874Z"
    }
   },
   "outputs": [],
   "source": [
    "import time\n",
    "def evaluate_llm(assistant_checkpoint):\n",
    "    \n",
    "    # Generate Output\n",
    "    # Perform inference and measure latency\n",
    "    num_iterations = 100  # Adjust this based on your requirements\n",
    "    total_time = 0.0\n",
    "    if assistant_checkpoint != \"facebook/opt-6.7b\":\n",
    "        assistant_model = AutoModelForCausalLM.from_pretrained(assistant_checkpoint, cache_dir=\"/data/shk148/models/opt/cache\").cuda()\n",
    "        for _ in range(num_iterations):\n",
    "            start_time = time.time()\n",
    "            outputs = target_model.generate(inputs, assistant_model=assistant_model, do_sample=True,max_new_tokens=100)\n",
    "            end_time = time.time()\n",
    "            total_time += end_time - start_time\n",
    "        del assistant_model\n",
    "        torch.cuda.empty_cache()\n",
    "    else:\n",
    "        start_time = time.time()\n",
    "        outputs = target_model.generate(inputs, do_sample=True,max_new_tokens=100)\n",
    "        end_time = time.time()\n",
    "        total_time += end_time - start_time\n",
    "        # print(tokenizer.batch_decode(outputs, skip_special_tokens=True))\n",
    "    return (total_time / num_iterations)"
   ]
  },
  {
   "cell_type": "code",
   "execution_count": 28,
   "metadata": {
    "execution": {
     "iopub.execute_input": "2024-03-27T17:41:33.091185Z",
     "iopub.status.busy": "2024-03-27T17:41:33.091062Z",
     "iopub.status.idle": "2024-03-27T17:41:33.096224Z",
     "shell.execute_reply": "2024-03-27T17:41:33.095873Z"
    }
   },
   "outputs": [],
   "source": [
    "prompt = \"A monolithic operating system differs\"\n",
    "inputs = tokenizer(prompt, return_tensors=\"pt\").input_ids.cuda()"
   ]
  },
  {
   "cell_type": "code",
   "execution_count": 29,
   "metadata": {
    "execution": {
     "iopub.execute_input": "2024-03-27T17:41:33.097845Z",
     "iopub.status.busy": "2024-03-27T17:41:33.097717Z",
     "iopub.status.idle": "2024-03-27T17:43:36.951364Z",
     "shell.execute_reply": "2024-03-27T17:43:36.950339Z"
    }
   },
   "outputs": [],
   "source": [
    "draft_models = [\n",
    "\t\"facebook/opt-125m\",\n",
    "\t\"facebook/opt-350m\",\n",
    "\t\"facebook/opt-1.3b\",\n",
    "\t\"facebook/opt-2.7b\",\n",
    "    \"facebook/opt-6.7b\",\n",
    "]\n",
    "\n",
    "model_size = {\n",
    "    \"facebook/opt-125m\": 125 * 1,\n",
    "\t\"facebook/opt-350m\": 350 * 1,\n",
    "\t\"facebook/opt-1.3b\": 1.3 * 1000,\n",
    "\t\"facebook/opt-2.7b\": 2.7 * 1000,\n",
    "    \"facebook/opt-6.7b\": 6.7 * 1000\n",
    "}\n",
    "\n",
    "results = dict()\n",
    "for model in draft_models:\n",
    "    results[model_size[model]] = evaluate_llm(model)"
   ]
  },
  {
   "cell_type": "code",
   "execution_count": 30,
   "metadata": {},
   "outputs": [
    {
     "data": {
      "text/html": [
       "<div>\n",
       "<style scoped>\n",
       "    .dataframe tbody tr th:only-of-type {\n",
       "        vertical-align: middle;\n",
       "    }\n",
       "\n",
       "    .dataframe tbody tr th {\n",
       "        vertical-align: top;\n",
       "    }\n",
       "\n",
       "    .dataframe thead th {\n",
       "        text-align: right;\n",
       "    }\n",
       "</style>\n",
       "<table border=\"1\" class=\"dataframe\">\n",
       "  <thead>\n",
       "    <tr style=\"text-align: right;\">\n",
       "      <th></th>\n",
       "      <th>Model</th>\n",
       "      <th>Time</th>\n",
       "    </tr>\n",
       "  </thead>\n",
       "  <tbody>\n",
       "    <tr>\n",
       "      <th>0</th>\n",
       "      <td>125.0</td>\n",
       "      <td>2.253015</td>\n",
       "    </tr>\n",
       "    <tr>\n",
       "      <th>1</th>\n",
       "      <td>350.0</td>\n",
       "      <td>2.619492</td>\n",
       "    </tr>\n",
       "    <tr>\n",
       "      <th>2</th>\n",
       "      <td>1300.0</td>\n",
       "      <td>2.286098</td>\n",
       "    </tr>\n",
       "    <tr>\n",
       "      <th>3</th>\n",
       "      <td>2700.0</td>\n",
       "      <td>3.164074</td>\n",
       "    </tr>\n",
       "    <tr>\n",
       "      <th>4</th>\n",
       "      <td>6700.0</td>\n",
       "      <td>3.592834</td>\n",
       "    </tr>\n",
       "  </tbody>\n",
       "</table>\n",
       "</div>"
      ],
      "text/plain": [
       "    Model      Time\n",
       "0   125.0  2.253015\n",
       "1   350.0  2.619492\n",
       "2  1300.0  2.286098\n",
       "3  2700.0  3.164074\n",
       "4  6700.0  3.592834"
      ]
     },
     "execution_count": 30,
     "metadata": {},
     "output_type": "execute_result"
    }
   ],
   "source": [
    "import pandas as pd\n",
    "df = pd.DataFrame(list(results.items()), columns=['Model', 'Time'])\n",
    "df"
   ]
  },
  {
   "cell_type": "code",
   "execution_count": 31,
   "metadata": {},
   "outputs": [
    {
     "data": {
      "image/png": "[encoded data removed]",
      "text/plain": [
       "<Figure size 800x600 with 1 Axes>"
      ]
     },
     "metadata": {},
     "output_type": "display_data"
    }
   ],
   "source": [
    "import matplotlib.pyplot as plt\n",
    "no_spec = df.iloc[-1]\n",
    "df = df.drop(df.index[-1])\n",
    "# Plotting\n",
    "plt.figure(figsize=(8, 6))\n",
    "plt.plot(df['Model'], df['Time'], marker='o', linestyle='-')\n",
    "plt.scatter(no_spec['Model'], no_spec['Time'], color=\"red\")\n",
    "plt.title('Model vs Time')\n",
    "plt.xlabel('Model')\n",
    "plt.ylabel('Time')\n",
    "plt.grid(True)\n",
    "plt.show()\n"
   ]
  }
 ],
 "metadata": {
  "kernelspec": {
   "display_name": "Python 3 (ipykernel)",
   "language": "python",
   "name": "python3"
  },
  "language_info": {
   "codemirror_mode": {
    "name": "ipython",
    "version": 3
   },
   "file_extension": ".py",
   "mimetype": "text/x-python",
   "name": "python",
   "nbconvert_exporter": "python",
   "pygments_lexer": "ipython3",
   "version": "3.10.12"
  },
  "widgets": {
   "application/vnd.jupyter.widget-state+json": {
    "state": {
     "02b7da54b1a0470d96fb3e4ef0c656ee": {
      "model_module": "@jupyter-widgets/base",
      "model_module_version": "2.0.0",
      "model_name": "LayoutModel",
      "state": {
       "_model_module": "@jupyter-widgets/base",
       "_model_module_version": "2.0.0",
       "_model_name": "LayoutModel",
       "_view_count": null,
       "_view_module": "@jupyter-widgets/base",
       "_view_module_version": "2.0.0",
       "_view_name": "LayoutView",
       "align_content": null,
       "align_items": null,
       "align_self": null,
       "border_bottom": null,
       "border_left": null,
       "border_right": null,
       "border_top": null,
       "bottom": null,
       "display": null,
       "flex": null,
       "flex_flow": null,
       "grid_area": null,
       "grid_auto_columns": null,
       "grid_auto_flow": null,
       "grid_auto_rows": null,
       "grid_column": null,
       "grid_gap": null,
       "grid_row": null,
       "grid_template_areas": null,
       "grid_template_columns": null,
       "grid_template_rows": null,
       "height": null,
       "justify_content": null,
       "justify_items": null,
       "left": null,
       "margin": null,
       "max_height": null,
       "max_width": null,
       "min_height": null,
       "min_width": null,
       "object_fit": null,
       "object_position": null,
       "order": null,
       "overflow": null,
       "padding": null,
       "right": null,
       "top": null,
       "visibility": null,
       "width": null
      }
     },
     "120322960745439880f8359a9d4584f0": {
      "model_module": "@jupyter-widgets/controls",
      "model_module_version": "2.0.0",
      "model_name": "HTMLStyleModel",
      "state": {
       "_model_module": "@jupyter-widgets/controls",
       "_model_module_version": "2.0.0",
       "_model_name": "HTMLStyleModel",
       "_view_count": null,
       "_view_module": "@jupyter-widgets/base",
       "_view_module_version": "2.0.0",
       "_view_name": "StyleView",
       "background": null,
       "description_width": "",
       "font_size": null,
       "text_color": null
      }
     },
     "21bd51a5b49b4b8fad1fc89a343289a4": {
      "model_module": "@jupyter-widgets/controls",
      "model_module_version": "2.0.0",
      "model_name": "HBoxModel",
      "state": {
       "_dom_classes": [],
       "_model_module": "@jupyter-widgets/controls",
       "_model_module_version": "2.0.0",
       "_model_name": "HBoxModel",
       "_view_count": null,
       "_view_module": "@jupyter-widgets/controls",
       "_view_module_version": "2.0.0",
       "_view_name": "HBoxView",
       "box_style": "",
       "children": [
        "IPY_MODEL_e60ccb5ec19945ac97b8ec12b71f1eae",
        "IPY_MODEL_31b20c15785f4b0aa10a6004c1c0e2db",
        "IPY_MODEL_a482ddcd96f44ea0a8e2bc03addbfcfc"
       ],
       "layout": "IPY_MODEL_2a7b64e74afa43eaaa92594e992ca888",
       "tabbable": null,
       "tooltip": null
      }
     },
     "250a178d7cf14ce29e57fc6b23f98eb1": {
      "model_module": "@jupyter-widgets/base",
      "model_module_version": "2.0.0",
      "model_name": "LayoutModel",
      "state": {
       "_model_module": "@jupyter-widgets/base",
       "_model_module_version": "2.0.0",
       "_model_name": "LayoutModel",
       "_view_count": null,
       "_view_module": "@jupyter-widgets/base",
       "_view_module_version": "2.0.0",
       "_view_name": "LayoutView",
       "align_content": null,
       "align_items": null,
       "align_self": null,
       "border_bottom": null,
       "border_left": null,
       "border_right": null,
       "border_top": null,
       "bottom": null,
       "display": null,
       "flex": null,
       "flex_flow": null,
       "grid_area": null,
       "grid_auto_columns": null,
       "grid_auto_flow": null,
       "grid_auto_rows": null,
       "grid_column": null,
       "grid_gap": null,
       "grid_row": null,
       "grid_template_areas": null,
       "grid_template_columns": null,
       "grid_template_rows": null,
       "height": null,
       "justify_content": null,
       "justify_items": null,
       "left": null,
       "margin": null,
       "max_height": null,
       "max_width": null,
       "min_height": null,
       "min_width": null,
       "object_fit": null,
       "object_position": null,
       "order": null,
       "overflow": null,
       "padding": null,
       "right": null,
       "top": null,
       "visibility": null,
       "width": null
      }
     },
     "2a7b64e74afa43eaaa92594e992ca888": {
      "model_module": "@jupyter-widgets/base",
      "model_module_version": "2.0.0",
      "model_name": "LayoutModel",
      "state": {
       "_model_module": "@jupyter-widgets/base",
       "_model_module_version": "2.0.0",
       "_model_name": "LayoutModel",
       "_view_count": null,
       "_view_module": "@jupyter-widgets/base",
       "_view_module_version": "2.0.0",
       "_view_name": "LayoutView",
       "align_content": null,
       "align_items": null,
       "align_self": null,
       "border_bottom": null,
       "border_left": null,
       "border_right": null,
       "border_top": null,
       "bottom": null,
       "display": null,
       "flex": null,
       "flex_flow": null,
       "grid_area": null,
       "grid_auto_columns": null,
       "grid_auto_flow": null,
       "grid_auto_rows": null,
       "grid_column": null,
       "grid_gap": null,
       "grid_row": null,
       "grid_template_areas": null,
       "grid_template_columns": null,
       "grid_template_rows": null,
       "height": null,
       "justify_content": null,
       "justify_items": null,
       "left": null,
       "margin": null,
       "max_height": null,
       "max_width": null,
       "min_height": null,
       "min_width": null,
       "object_fit": null,
       "object_position": null,
       "order": null,
       "overflow": null,
       "padding": null,
       "right": null,
       "top": null,
       "visibility": null,
       "width": null
      }
     },
     "31b20c15785f4b0aa10a6004c1c0e2db": {
      "model_module": "@jupyter-widgets/controls",
      "model_module_version": "2.0.0",
      "model_name": "FloatProgressModel",
      "state": {
       "_dom_classes": [],
       "_model_module": "@jupyter-widgets/controls",
       "_model_module_version": "2.0.0",
       "_model_name": "FloatProgressModel",
       "_view_count": null,
       "_view_module": "@jupyter-widgets/controls",
       "_view_module_version": "2.0.0",
       "_view_name": "ProgressView",
       "bar_style": "success",
       "description": "",
       "description_allow_html": false,
       "layout": "IPY_MODEL_250a178d7cf14ce29e57fc6b23f98eb1",
       "max": 2,
       "min": 0,
       "orientation": "horizontal",
       "style": "IPY_MODEL_48b5187f11b942afb148b5ba41bca825",
       "tabbable": null,
       "tooltip": null,
       "value": 2
      }
     },
     "48b5187f11b942afb148b5ba41bca825": {
      "model_module": "@jupyter-widgets/controls",
      "model_module_version": "2.0.0",
      "model_name": "ProgressStyleModel",
      "state": {
       "_model_module": "@jupyter-widgets/controls",
       "_model_module_version": "2.0.0",
       "_model_name": "ProgressStyleModel",
       "_view_count": null,
       "_view_module": "@jupyter-widgets/base",
       "_view_module_version": "2.0.0",
       "_view_name": "StyleView",
       "bar_color": null,
       "description_width": ""
      }
     },
     "58de411ba6594c968c7f1d37a5c3b724": {
      "model_module": "@jupyter-widgets/controls",
      "model_module_version": "2.0.0",
      "model_name": "HTMLStyleModel",
      "state": {
       "_model_module": "@jupyter-widgets/controls",
       "_model_module_version": "2.0.0",
       "_model_name": "HTMLStyleModel",
       "_view_count": null,
       "_view_module": "@jupyter-widgets/base",
       "_view_module_version": "2.0.0",
       "_view_name": "StyleView",
       "background": null,
       "description_width": "",
       "font_size": null,
       "text_color": null
      }
     },
     "a482ddcd96f44ea0a8e2bc03addbfcfc": {
      "model_module": "@jupyter-widgets/controls",
      "model_module_version": "2.0.0",
      "model_name": "HTMLModel",
      "state": {
       "_dom_classes": [],
       "_model_module": "@jupyter-widgets/controls",
       "_model_module_version": "2.0.0",
       "_model_name": "HTMLModel",
       "_view_count": null,
       "_view_module": "@jupyter-widgets/controls",
       "_view_module_version": "2.0.0",
       "_view_name": "HTMLView",
       "description": "",
       "description_allow_html": false,
       "layout": "IPY_MODEL_f9b7c83b89614b9a92767774e6c8a0e4",
       "placeholder": "​",
       "style": "IPY_MODEL_58de411ba6594c968c7f1d37a5c3b724",
       "tabbable": null,
       "tooltip": null,
       "value": " 2/2 [00:01&lt;00:00,  1.56it/s]"
      }
     },
     "e60ccb5ec19945ac97b8ec12b71f1eae": {
      "model_module": "@jupyter-widgets/controls",
      "model_module_version": "2.0.0",
      "model_name": "HTMLModel",
      "state": {
       "_dom_classes": [],
       "_model_module": "@jupyter-widgets/controls",
       "_model_module_version": "2.0.0",
       "_model_name": "HTMLModel",
       "_view_count": null,
       "_view_module": "@jupyter-widgets/controls",
       "_view_module_version": "2.0.0",
       "_view_name": "HTMLView",
       "description": "",
       "description_allow_html": false,
       "layout": "IPY_MODEL_02b7da54b1a0470d96fb3e4ef0c656ee",
       "placeholder": "​",
       "style": "IPY_MODEL_120322960745439880f8359a9d4584f0",
       "tabbable": null,
       "tooltip": null,
       "value": "Loading checkpoint shards: 100%"
      }
     },
     "f9b7c83b89614b9a92767774e6c8a0e4": {
      "model_module": "@jupyter-widgets/base",
      "model_module_version": "2.0.0",
      "model_name": "LayoutModel",
      "state": {
       "_model_module": "@jupyter-widgets/base",
       "_model_module_version": "2.0.0",
       "_model_name": "LayoutModel",
       "_view_count": null,
       "_view_module": "@jupyter-widgets/base",
       "_view_module_version": "2.0.0",
       "_view_name": "LayoutView",
       "align_content": null,
       "align_items": null,
       "align_self": null,
       "border_bottom": null,
       "border_left": null,
       "border_right": null,
       "border_top": null,
       "bottom": null,
       "display": null,
       "flex": null,
       "flex_flow": null,
       "grid_area": null,
       "grid_auto_columns": null,
       "grid_auto_flow": null,
       "grid_auto_rows": null,
       "grid_column": null,
       "grid_gap": null,
       "grid_row": null,
       "grid_template_areas": null,
       "grid_template_columns": null,
       "grid_template_rows": null,
       "height": null,
       "justify_content": null,
       "justify_items": null,
       "left": null,
       "margin": null,
       "max_height": null,
       "max_width": null,
       "min_height": null,
       "min_width": null,
       "object_fit": null,
       "object_position": null,
       "order": null,
       "overflow": null,
       "padding": null,
       "right": null,
       "top": null,
       "visibility": null,
       "width": null
      }
     }
    },
    "version_major": 2,
    "version_minor": 0
   }
  }
 },
 "nbformat": 4,
 "nbformat_minor": 4
}

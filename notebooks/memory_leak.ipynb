{
 "cells": [
  {
   "cell_type": "code",
   "execution_count": 1,
   "metadata": {},
   "outputs": [],
   "source": [
    "HF_CACHE_LOCATION = \"/data/shk148/models/opt/cache\""
   ]
  },
  {
   "cell_type": "code",
   "execution_count": 2,
   "metadata": {},
   "outputs": [
    {
     "name": "stdout",
     "output_type": "stream",
     "text": [
      "CUDA MEMORY BEFORE: 0\n",
      "['Functional Programming is a programming language that is used to create functional programming languages. It is a programming language that is used to create functional programming languages. It is a programming language that is used to create functional programming languages. It is a programming language that is used to create functional programming languages. It is a programming language that is used to create functional programming languages. It is a programming language that is used to create functional programming languages. It is a programming language that is used to create functional programming languages']\n",
      "CUDA MEMORY AFTER: 20971520\n"
     ]
    }
   ],
   "source": [
    "import gc\n",
    "from transformers import AutoModelForCausalLM, AutoTokenizer\n",
    "import torch\n",
    "\n",
    "prompt = \"Functional Programming is\"\n",
    "torch_device = \"cuda\" if torch.cuda.is_available() else \"cpu\"\n",
    "\n",
    "print(\"CUDA MEMORY BEFORE: \" + str(torch.cuda.memory_reserved())) # 0\n",
    "\n",
    "checkpoint = \"facebook/opt-125m\"\n",
    "model = AutoModelForCausalLM.from_pretrained(checkpoint, cache_dir = HF_CACHE_LOCATION).to(torch_device)\n",
    "tokenizer = AutoTokenizer.from_pretrained(checkpoint, cache_dir = HF_CACHE_LOCATION)\n",
    "\n",
    "inputs = tokenizer(prompt, return_tensors=\"pt\").input_ids.to(torch_device)\n",
    "\n",
    "with torch.no_grad():\n",
    "    output = model.generate(inputs, max_length= 100)\n",
    "    print(tokenizer.batch_decode(output, skip_special_tokens=True))\n",
    "    # del output\n",
    "\n",
    "with torch.no_grad():\n",
    "    output = model.generate(inputs, max_length= 100)\n",
    "    print(tokenizer.batch_decode(output, skip_special_tokens=True))\n",
    "    # del output\n",
    "\n",
    "del prompt, torch_device, checkpoint, model, tokenizer, inputs\n",
    "gc.collect()\n",
    "torch.cuda.empty_cache()\n",
    "print(\"CUDA MEMORY AFTER: \" + str(torch.cuda.memory_reserved())) # 20971520"
   ]
  },
  {
   "cell_type": "code",
   "execution_count": 4,
   "metadata": {},
   "outputs": [],
   "source": []
  }
 ],
 "metadata": {
  "kernelspec": {
   "display_name": "Python 3",
   "language": "python",
   "name": "python3"
  },
  "language_info": {
   "codemirror_mode": {
    "name": "ipython",
    "version": 3
   },
   "file_extension": ".py",
   "mimetype": "text/x-python",
   "name": "python",
   "nbconvert_exporter": "python",
   "pygments_lexer": "ipython3",
   "version": "3.10.12"
  }
 },
 "nbformat": 4,
 "nbformat_minor": 2
}

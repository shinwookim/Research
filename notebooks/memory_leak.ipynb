{
 "cells": [
  {
   "cell_type": "markdown",
   "metadata": {},
   "source": [
    "# Hugging Face Transformers Memory Leak Demo\n",
    "This notebook demonstrates that there is a possible GPU memory leak in Huggingface's Transformers."
   ]
  },
  {
   "cell_type": "code",
   "execution_count": null,
   "metadata": {},
   "outputs": [],
   "source": [
    "import os\n",
    "HF_CACHE_LOCATION = os.getenv(\"HF_CACHE_DIR\")"
   ]
  },
  {
   "cell_type": "code",
   "execution_count": null,
   "metadata": {},
   "outputs": [],
   "source": [
    "from transformers import AutoModelForCausalLM, AutoTokenizer\n",
    "import torch\n",
    "import gc"
   ]
  },
  {
   "cell_type": "code",
   "execution_count": null,
   "metadata": {},
   "outputs": [],
   "source": [
    "prompt = \"Functional Programming is\"\n",
    "torch_device = \"cuda\" if torch.cuda.is_available() else \"cpu\"\n",
    "checkpoint = \"facebook/opt-125m\""
   ]
  },
  {
   "cell_type": "code",
   "execution_count": null,
   "metadata": {},
   "outputs": [],
   "source": [
    "# CUDA memory before inference should be zero\n",
    "print(\"CUDA MEMORY BEFORE: \" + str(torch.cuda.memory_reserved())) # 0"
   ]
  },
  {
   "cell_type": "code",
   "execution_count": 2,
   "metadata": {},
   "outputs": [
    {
     "name": "stdout",
     "output_type": "stream",
     "text": [
      "CUDA MEMORY BEFORE: 0\n",
      "['Functional Programming is a programming language that is used to create functional programming languages. It is a programming language that is used to create functional programming languages. It is a programming language that is used to create functional programming languages. It is a programming language that is used to create functional programming languages. It is a programming language that is used to create functional programming languages. It is a programming language that is used to create functional programming languages. It is a programming language that is used to create functional programming languages']\n",
      "CUDA MEMORY AFTER: 20971520\n"
     ]
    }
   ],
   "source": [
    "model = AutoModelForCausalLM.from_pretrained(checkpoint, cache_dir = HF_CACHE_LOCATION).to(torch_device)\n",
    "tokenizer = AutoTokenizer.from_pretrained(checkpoint, cache_dir = HF_CACHE_LOCATION)\n",
    "inputs = tokenizer(prompt, return_tensors=\"pt\").input_ids.to(torch_device)\n",
    "\n",
    "with torch.no_grad():\n",
    "    output = model.generate(inputs, max_length= 100)\n",
    "    print(tokenizer.batch_decode(output, skip_special_tokens=True))\n",
    "    del output\n",
    "\n",
    "del prompt, torch_device, checkpoint, model, tokenizer, inputs\n",
    "gc.collect()\n",
    "torch.cuda.empty_cache()"
   ]
  },
  {
   "cell_type": "code",
   "execution_count": 4,
   "metadata": {},
   "outputs": [],
   "source": [
    "print(\"CUDA MEMORY AFTER: \" + str(torch.cuda.memory_reserved())) # 20971520"
   ]
  }
 ],
 "metadata": {
  "kernelspec": {
   "display_name": "Python 3",
   "language": "python",
   "name": "python3"
  },
  "language_info": {
   "codemirror_mode": {
    "name": "ipython",
    "version": 3
   },
   "file_extension": ".py",
   "mimetype": "text/x-python",
   "name": "python",
   "nbconvert_exporter": "python",
   "pygments_lexer": "ipython3",
   "version": "3.10.12"
  }
 },
 "nbformat": 4,
 "nbformat_minor": 2
}

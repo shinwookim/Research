{
 "cells": [
  {
   "cell_type": "markdown",
   "metadata": {},
   "source": [
    "# Using Open Pre-trained Transformer Language Models (with HF Transformers and Speculative Decoding)"
   ]
  },
  {
   "cell_type": "code",
   "execution_count": 1,
   "metadata": {},
   "outputs": [],
   "source": [
    "from transformers import AutoModelForCausalLM, AutoTokenizer\n",
    "HF_CACHE_LOCATION = \"/data/shk148/models/opt/cache\"\n",
    "# To pre-cache all the OPT models easily (in parallel),\n",
    "# use `../precache_opt_models.py HF_CACHE_LOCATION`\n",
    "\n",
    "# For processing on GPU, we use PyTorch\n",
    "# TensorFlow is also available, but Transformers' integration with PyTorch is more robust\n",
    "import torch\n",
    "torch_device = \"cuda\" if torch.cuda.is_available() else \"cpu\""
   ]
  },
  {
   "cell_type": "code",
   "execution_count": 2,
   "metadata": {},
   "outputs": [
    {
     "data": {
      "text/plain": [
       "0"
      ]
     },
     "execution_count": 2,
     "metadata": {},
     "output_type": "execute_result"
    }
   ],
   "source": [
    "# Things allocated on GPU is not cleared automaticaly.\n",
    "# This can be problamatic when running the notebook multiple times,\n",
    "# Or running it out-of-order.\n",
    "# `clear_torch()` tries to free some space on the GPU.\n",
    "import gc\n",
    "def clear_torch():\n",
    "    if \"assistant_model\" in globals() :\n",
    "        global assistant_model\n",
    "        del assistant_model\n",
    "    if \"target_model\" in globals() :\n",
    "        global target_model\n",
    "        del target_model\n",
    "    if \"tokenizer\" in globals():\n",
    "        global tokenizer\n",
    "        del tokenizer\n",
    "    if \"inputs\" in globals():\n",
    "        global inputs\n",
    "        del inputs\n",
    "    if \"outputs\" in globals():\n",
    "        global outputs\n",
    "        del outputs\n",
    "    gc.collect()\n",
    "    torch.cuda.empty_cache()\n",
    "clear_torch()\n",
    "torch.cuda.memory_reserved()"
   ]
  },
  {
   "cell_type": "code",
   "execution_count": 3,
   "metadata": {},
   "outputs": [
    {
     "data": {
      "application/vnd.jupyter.widget-view+json": {
       "model_id": "075179a1a5a04fc394711f775e8872d5",
       "version_major": 2,
       "version_minor": 0
      },
      "text/plain": [
       "Loading checkpoint shards:   0%|          | 0/2 [00:00<?, ?it/s]"
      ]
     },
     "metadata": {},
     "output_type": "display_data"
    }
   ],
   "source": [
    "clear_torch()\n",
    "# This is the Target LLM\n",
    "checkpoint = \"facebook/opt-6.7b\"\n",
    "# Load the model into the GPU\n",
    "target_model = AutoModelForCausalLM.from_pretrained(checkpoint, cache_dir=HF_CACHE_LOCATION).cuda()\n",
    "tokenizer = AutoTokenizer.from_pretrained(checkpoint, cache_dir=HF_CACHE_LOCATION)"
   ]
  },
  {
   "cell_type": "code",
   "execution_count": 4,
   "metadata": {},
   "outputs": [],
   "source": [
    "import time\n",
    "def evaluate_llm(assistant_checkpoint):\n",
    "    assistant_model = AutoModelForCausalLM.from_pretrained(assistant_checkpoint, cache_dir=\"/data/shk148/models/opt/cache\").cuda() if assistant_checkpoint is not None else None\n",
    "    # Generate Output\n",
    "    # Perform inference and measure latency\n",
    "    num_iterations = 10  # Adjust this based on your requirements\n",
    "    total_time = 0.0\n",
    "    if assistant_model is not None:\n",
    "        for _ in range(num_iterations):\n",
    "            start_time = time.time()\n",
    "            outputs = target_model.generate(inputs, assistant_model=assistant_model, do_sample=True,max_new_tokens=100)\n",
    "            end_time = time.time()\n",
    "            total_time += end_time - start_time\n",
    "        del assistant_model\n",
    "        torch.cuda.empty_cache()\n",
    "    else:\n",
    "        start_time = time.time()\n",
    "        outputs = target_model.generate(inputs, do_sample=True,max_new_tokens=100)\n",
    "        end_time = time.time()\n",
    "        total_time += end_time - start_time\n",
    "        # print(tokenizer.batch_decode(outputs, skip_special_tokens=True))\n",
    "    return (total_time / num_iterations)"
   ]
  },
  {
   "cell_type": "code",
   "execution_count": 5,
   "metadata": {},
   "outputs": [],
   "source": [
    "prompt = \"A monolithic operating system differs\"\n",
    "inputs = tokenizer(prompt, return_tensors=\"pt\").input_ids.cuda()"
   ]
  },
  {
   "cell_type": "code",
   "execution_count": 6,
   "metadata": {},
   "outputs": [
    {
     "name": "stderr",
     "output_type": "stream",
     "text": [
      "Calling `_assisted_decoding` directly is deprecated and will be removed in v4.41. Use `generate` or a custom generation loop instead.\n"
     ]
    },
    {
     "name": "stdout",
     "output_type": "stream",
     "text": [
      "{'facebook/opt-125m': 2.4469939708709716, 'facebook/opt-350m': 2.9480308055877686, 'facebook/opt-1.3b': 2.500729870796204, 'facebook/opt-2.7b': 3.301098585128784, None: 0.3623969554901123}\n"
     ]
    }
   ],
   "source": [
    "draft_models = [\n",
    "\t\"facebook/opt-125m\",\n",
    "\t\"facebook/opt-350m\",\n",
    "\t\"facebook/opt-1.3b\",\n",
    "\t\"facebook/opt-2.7b\",\n",
    "    None\n",
    "]\n",
    "results = dict()\n",
    "for model in draft_models:\n",
    "    results[model] = evaluate_llm(model)\n",
    "print(results)"
   ]
  }
 ],
 "metadata": {
  "kernelspec": {
   "display_name": "Python 3 (ipykernel)",
   "language": "python",
   "name": "python3"
  },
  "language_info": {
   "codemirror_mode": {
    "name": "ipython",
    "version": 3
   },
   "file_extension": ".py",
   "mimetype": "text/x-python",
   "name": "python",
   "nbconvert_exporter": "python",
   "pygments_lexer": "ipython3",
   "version": "3.10.12"
  }
 },
 "nbformat": 4,
 "nbformat_minor": 4
}

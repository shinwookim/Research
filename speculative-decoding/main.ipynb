{
 "cells": [
  {
   "cell_type": "code",
   "execution_count": 1,
   "metadata": {},
   "outputs": [
    {
     "name": "stderr",
     "output_type": "stream",
     "text": [
      "/data/shk148/miniconda3/lib/python3.12/site-packages/tqdm/auto.py:21: TqdmWarning: IProgress not found. Please update jupyter and ipywidgets. See https://ipywidgets.readthedocs.io/en/stable/user_install.html\n",
      "  from .autonotebook import tqdm as notebook_tqdm\n"
     ]
    }
   ],
   "source": [
    "import csv\n",
    "import time\n",
    "import torch\n",
    "from transformers import AutoModelForCausalLM, AutoTokenizer, QuantoConfig\n",
    "from speculative_decoding import speculative_decoding\n",
    "HF_CACHE_LOCATION = \"/data/shk148/models/opt/cache\"\n",
    "torch_device = \"cuda\" if torch.cuda.is_available() else \"cpu\""
   ]
  },
  {
   "cell_type": "code",
   "execution_count": 2,
   "metadata": {},
   "outputs": [
    {
     "name": "stderr",
     "output_type": "stream",
     "text": [
      "Loading checkpoint shards: 100%|██████████| 7/7 [00:23<00:00,  3.29s/it]"
     ]
    },
    {
     "name": "stdout",
     "output_type": "stream",
     "text": [
      "CUDA MEMORY CURRENT: 9177137152\n"
     ]
    },
    {
     "name": "stderr",
     "output_type": "stream",
     "text": [
      "\n"
     ]
    }
   ],
   "source": [
    "draft_models = [\n",
    "    \"facebook/opt-6.7b\",\n",
    "    \"facebook/opt-2.7b\",\n",
    "    \"facebook/opt-1.3b\",\n",
    "    \"facebook/opt-350m\",\n",
    "    \"facebook/opt-125m\",\n",
    "    \"facebook/opt-13b\",\n",
    "]\n",
    "\n",
    "model_size = {\n",
    "    \"facebook/opt-125m\": 125 * 1,\n",
    "    \"facebook/opt-350m\": 350 * 1,\n",
    "    \"facebook/opt-1.3b\": 1300,\n",
    "    \"facebook/opt-2.7b\": 2700,\n",
    "    \"facebook/opt-6.7b\": 6700,\n",
    "    \"facebook/opt-13b\": 13 * 1000,\n",
    "    \"facebook/opt-30b\": 30 * 1000,\n",
    "}\n",
    "target_checkpoint = \"facebook/opt-30b\"\n",
    "quantization_config = QuantoConfig(weights=\"int4\")\n",
    "torch.manual_seed(1)\n",
    "top_k = 20\n",
    "top_p = 0.9\n",
    "num_tokens = 20\n",
    "lookahead = 4\n",
    "target_model = AutoModelForCausalLM.from_pretrained(target_checkpoint, cache_dir=HF_CACHE_LOCATION,quantization_config=quantization_config,device_map=\"auto\")\n",
    "tokenizer = AutoTokenizer.from_pretrained(\"facebook/opt-125m\", cache_dir=HF_CACHE_LOCATION, trust_remote_code=True, device_map=\"auto\")\n",
    "print(\"CUDA MEMORY CURRENT: \" + str(torch.cuda.memory_reserved())) # 20971520"
   ]
  },
  {
   "cell_type": "code",
   "execution_count": 3,
   "metadata": {},
   "outputs": [],
   "source": [
    "import gc\n",
    "\n",
    "def evaluate(model, prompt):\n",
    "    total_time = 0.0\n",
    "    with torch.no_grad():\n",
    "        input_ids = tokenizer.encode(prompt, return_tensors=\"pt\").to(torch_device)\n",
    "        start_time = time.time()\n",
    "        output, tar = speculative_decoding(input_ids,model,target_model,num_tokens,tokenizer,lookahead,top_k=top_k,top_p=top_p)\n",
    "        total_time += time.time() - start_time\n",
    "    gc.collect()\n",
    "    torch.cuda.empty_cache()\n",
    "    return (total_time, output, tar)"
   ]
  },
  {
   "cell_type": "code",
   "execution_count": 4,
   "metadata": {},
   "outputs": [],
   "source": [
    "import json\n",
    "from collections import defaultdict\n",
    "f = open(\"../data/ShareGPT_V3_unfiltered_cleaned_split.json\")\n",
    "data = json.load(f)"
   ]
  },
  {
   "cell_type": "code",
   "execution_count": 5,
   "metadata": {},
   "outputs": [
    {
     "name": "stderr",
     "output_type": "stream",
     "text": [
      "Loading checkpoint shards: 100%|██████████| 2/2 [00:05<00:00,  2.82s/it]\n"
     ]
    },
    {
     "name": "stdout",
     "output_type": "stream",
     "text": [
      "CUDA MEMORY CURRENT: 9246343168\n",
      "CUDA MEMORY CURRENT: 9246343168\n",
      "CUDA MEMORY CURRENT: 9246343168\n",
      "CUDA MEMORY CURRENT: 9246343168\n",
      "CUDA MEMORY CURRENT: 9246343168\n"
     ]
    },
    {
     "name": "stderr",
     "output_type": "stream",
     "text": [
      "Loading checkpoint shards: 100%|██████████| 3/3 [00:11<00:00,  3.99s/it]\n"
     ]
    },
    {
     "name": "stdout",
     "output_type": "stream",
     "text": [
      "CUDA MEMORY CURRENT: 9246343168\n"
     ]
    }
   ],
   "source": [
    "results = defaultdict(list)\n",
    "for draft_model_name in draft_models:\n",
    "    draft_model = AutoModelForCausalLM.from_pretrained(draft_model_name, cache_dir=HF_CACHE_LOCATION, device_map=\"auto\", quantization_config=quantization_config)\n",
    "    i = 0\n",
    "    for i in range(100):\n",
    "        if len(data[i]['conversations']) > 0:\n",
    "            prompt = str(data[i]['conversations'][0]['value'].split()[:8])\n",
    "            result = evaluate(draft_model, prompt)\n",
    "            entry = (i, result[0], result[2])\n",
    "            results[model_size[draft_model_name]].append(entry)\n",
    "    del draft_model\n",
    "    gc.collect()\n",
    "    torch.cuda.empty_cache()\n",
    "    print(\"CUDA MEMORY CURRENT: \" + str(torch.cuda.memory_reserved())) # 20971520\n",
    "    "
   ]
  },
  {
   "cell_type": "code",
   "execution_count": 6,
   "metadata": {},
   "outputs": [],
   "source": [
    "with open(\"output.json\", \"w\") as outfile:\n",
    "    json.dump(results, outfile)"
   ]
  },
  {
   "cell_type": "code",
   "execution_count": null,
   "metadata": {},
   "outputs": [],
   "source": [
    "with open(\"cleaned_results.csv\", \"w\") as f:\n",
    "    f.write(\"prompt,draft_model,latency,tar\\n\")\n",
    "    for key in results:\n",
    "        for datapoint in results[key]:\n",
    "            f.write(f\"{datapoint[0]},{key},{datapoint[1]},{datapoint[2]}\\n\")"
   ]
  },
  {
   "cell_type": "code",
   "execution_count": null,
   "metadata": {},
   "outputs": [],
   "source": []
  }
 ],
 "metadata": {
  "kernelspec": {
   "display_name": "Python 3",
   "language": "python",
   "name": "python3"
  },
  "language_info": {
   "codemirror_mode": {
    "name": "ipython",
    "version": 3
   },
   "file_extension": ".py",
   "mimetype": "text/x-python",
   "name": "python",
   "nbconvert_exporter": "python",
   "pygments_lexer": "ipython3",
   "version": "3.12.2"
  }
 },
 "nbformat": 4,
 "nbformat_minor": 2
}

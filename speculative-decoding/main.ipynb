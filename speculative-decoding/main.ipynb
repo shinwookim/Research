{
 "cells": [
  {
   "cell_type": "code",
   "execution_count": 1,
   "metadata": {},
   "outputs": [
    {
     "ename": "ModuleNotFoundError",
     "evalue": "No module named 'torch'",
     "output_type": "error",
     "traceback": [
      "\u001b[0;31m---------------------------------------------------------------------------\u001b[0m",
      "\u001b[0;31mModuleNotFoundError\u001b[0m                       Traceback (most recent call last)",
      "Cell \u001b[0;32mIn[1], line 3\u001b[0m\n\u001b[1;32m      1\u001b[0m \u001b[38;5;28;01mimport\u001b[39;00m \u001b[38;5;21;01mcsv\u001b[39;00m\n\u001b[1;32m      2\u001b[0m \u001b[38;5;28;01mimport\u001b[39;00m \u001b[38;5;21;01mtime\u001b[39;00m\n\u001b[0;32m----> 3\u001b[0m \u001b[38;5;28;01mimport\u001b[39;00m \u001b[38;5;21;01mtorch\u001b[39;00m\n\u001b[1;32m      4\u001b[0m \u001b[38;5;28;01mfrom\u001b[39;00m \u001b[38;5;21;01mtransformers\u001b[39;00m \u001b[38;5;28;01mimport\u001b[39;00m AutoModelForCausalLM, AutoTokenizer, QuantoConfig\n\u001b[1;32m      5\u001b[0m \u001b[38;5;28;01mfrom\u001b[39;00m \u001b[38;5;21;01mspeculative_decoding\u001b[39;00m \u001b[38;5;28;01mimport\u001b[39;00m speculative_decoding\n",
      "\u001b[0;31mModuleNotFoundError\u001b[0m: No module named 'torch'"
     ]
    }
   ],
   "source": [
    "import csv\n",
    "import time\n",
    "import torch\n",
    "from transformers import AutoModelForCausalLM, AutoTokenizer, QuantoConfig\n",
    "from speculative_decoding import speculative_decoding\n",
    "HF_CACHE_LOCATION = \"/data/shk148/models/opt/cache\"\n",
    "torch_device = \"cuda\" if torch.cuda.is_available() else \"cpu\""
   ]
  },
  {
   "cell_type": "code",
   "execution_count": null,
   "metadata": {},
   "outputs": [
    {
     "ename": "",
     "evalue": "",
     "output_type": "error",
     "traceback": [
      "\u001b[1;31mRunning cells with '/opt/homebrew/bin/python3' requires the ipykernel package.\n",
      "\u001b[1;31mRun the following command to install 'ipykernel' into the Python environment. \n",
      "\u001b[1;31mCommand: '/opt/homebrew/bin/python3 -m pip install ipykernel -U --user --force-reinstall'"
     ]
    }
   ],
   "source": [
    "draft_models = [\n",
    "    \"facebook/opt-6.7b\",\n",
    "    \"facebook/opt-2.7b\",\n",
    "    \"facebook/opt-1.3b\",\n",
    "    \"facebook/opt-350m\",\n",
    "    \"facebook/opt-125m\",\n",
    "    \"facebook/opt-13b\",\n",
    "    \"facebook/opt-30b\",\n",
    "]\n",
    "\n",
    "model_size = {\n",
    "    \"facebook/opt-125m\": 125 * 1,\n",
    "    \"facebook/opt-350m\": 350 * 1,\n",
    "    \"facebook/opt-1.3b\": 1.3 * 1000,\n",
    "    \"facebook/opt-2.7b\": 2.7 * 1000,\n",
    "    \"facebook/opt-6.7b\": 6.7 * 1000,\n",
    "    \"facebook/opt-13b\": 13 * 1000,\n",
    "    \"facebook/opt-30b\": 30 * 1000,\n",
    "}\n",
    "target_checkpoint = \"facebook/opt-350m\"\n",
    "quantization_config = QuantoConfig(weights=\"int4\")\n",
    "torch.manual_seed(1)\n",
    "\n",
    "top_k = 20\n",
    "top_p = 0.9\n",
    "num_tokens = 20\n",
    "lookahead = 4\n",
    "\n",
    "\n",
    "target_model = AutoModelForCausalLM.from_pretrained(\"facebook/opt-1.3b\",quantization_config=quantization_config,device_map=\"auto\")\n",
    "tokenizer = AutoTokenizer.from_pretrained(\"facebook/opt-125m\", trust_remote_code=True)"
   ]
  },
  {
   "cell_type": "code",
   "execution_count": null,
   "metadata": {},
   "outputs": [
    {
     "ename": "",
     "evalue": "",
     "output_type": "error",
     "traceback": [
      "\u001b[1;31mRunning cells with '/opt/homebrew/bin/python3' requires the ipykernel package.\n",
      "\u001b[1;31mRun the following command to install 'ipykernel' into the Python environment. \n",
      "\u001b[1;31mCommand: '/opt/homebrew/bin/python3 -m pip install ipykernel -U --user --force-reinstall'"
     ]
    }
   ],
   "source": [
    "import gc\n",
    "\n",
    "\n",
    "def evaluate(assistant_checkpoint, prompt):\n",
    "    # Perform inference and measure latency\n",
    "    total_time = 0.0\n",
    "    draft_model = AutoModelForCausalLM.from_pretrained(assistant_checkpoint, cache_dir=HF_CACHE_LOCATION, device_map=\"auto\", quantization_config=quantization_config)    \n",
    "    with torch.no_grad():\n",
    "        input_ids = tokenizer.encode(prompt, return_tensors=\"pt\").to(torch_device)\n",
    "        start_time = time.time()\n",
    "        output = speculative_decoding(input_ids,draft_model,target_model,num_tokens,tokenizer,lookahead,top_k=top_k,top_p=top_p,)\n",
    "        total_time += time.time() - start_time\n",
    "        del output\n",
    "    torch.cuda.empty_cache()\n",
    "    del draft_model\n",
    "    gc.collect()\n",
    "    torch.cuda.empty_cache()\n",
    "    return (total_time)"
   ]
  },
  {
   "cell_type": "code",
   "execution_count": null,
   "metadata": {},
   "outputs": [
    {
     "ename": "",
     "evalue": "",
     "output_type": "error",
     "traceback": [
      "\u001b[1;31mRunning cells with '/opt/homebrew/bin/python3' requires the ipykernel package.\n",
      "\u001b[1;31mRun the following command to install 'ipykernel' into the Python environment. \n",
      "\u001b[1;31mCommand: '/opt/homebrew/bin/python3 -m pip install ipykernel -U --user --force-reinstall'"
     ]
    }
   ],
   "source": [
    "results = dict()\n",
    "for model in draft_models:\n",
    "    temp_result = 0.0\n",
    "    with open(\"../data/gpt_prompts.csv\", \"+r\", newline=\"\") as f:\n",
    "        reader = csv.reader(f)\n",
    "        for row in reader:\n",
    "            temp_result = temp_result + evaluate(model, row[0])\n",
    "        results[model_size[model]] = temp_result"
   ]
  }
 ],
 "metadata": {
  "kernelspec": {
   "display_name": "Python 3",
   "language": "python",
   "name": "python3"
  },
  "language_info": {
   "codemirror_mode": {
    "name": "ipython",
    "version": 3
   },
   "file_extension": ".py",
   "mimetype": "text/x-python",
   "name": "python",
   "nbconvert_exporter": "python",
   "pygments_lexer": "ipython3",
   "version": "3.12.2"
  }
 },
 "nbformat": 4,
 "nbformat_minor": 2
}
